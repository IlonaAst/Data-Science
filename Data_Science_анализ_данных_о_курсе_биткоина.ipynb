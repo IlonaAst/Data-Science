{
  "nbformat": 4,
  "nbformat_minor": 0,
  "metadata": {
    "colab": {
      "name": "Data Science_анализ данных о курсе биткоина.ipynb",
      "provenance": [],
      "collapsed_sections": [],
      "authorship_tag": "ABX9TyMWxT0kFf+AOuv1JGNg9ADa",
      "include_colab_link": true
    },
    "kernelspec": {
      "name": "python3",
      "display_name": "Python 3"
    },
    "language_info": {
      "name": "python"
    }
  },
  "cells": [
    {
      "cell_type": "markdown",
      "metadata": {
        "id": "view-in-github",
        "colab_type": "text"
      },
      "source": [
        "<a href=\"https://colab.research.google.com/github/IlonaAst/Data-Science/blob/main/Data_Science_%D0%B0%D0%BD%D0%B0%D0%BB%D0%B8%D0%B7_%D0%B4%D0%B0%D0%BD%D0%BD%D1%8B%D1%85_%D0%BE_%D0%BA%D1%83%D1%80%D1%81%D0%B5_%D0%B1%D0%B8%D1%82%D0%BA%D0%BE%D0%B8%D0%BD%D0%B0.ipynb\" target=\"_parent\"><img src=\"https://colab.research.google.com/assets/colab-badge.svg\" alt=\"Open In Colab\"/></a>"
      ]
    },
    {
      "cell_type": "code",
      "execution_count": null,
      "metadata": {
        "id": "svXfx7lduNzz"
      },
      "outputs": [],
      "source": [
        "import pandas as pd"
      ]
    },
    {
      "cell_type": "code",
      "source": [
        "bitcoin = pd.read_csv(\"/content/BTCUSD_daily.csv\", index_col=0)\n",
        "bitcoin.date = pd.to_datetime(bitcoin.date)  # Привести колонку date к формату datetime"
      ],
      "metadata": {
        "id": "-9PftMTrvhxM"
      },
      "execution_count": null,
      "outputs": []
    },
    {
      "cell_type": "code",
      "source": [
        "bitcoin.describe()"
      ],
      "metadata": {
        "colab": {
          "base_uri": "https://localhost:8080/",
          "height": 300
        },
        "id": "sPHZ1Jzrv6lm",
        "outputId": "7d2e7c73-7124-4e04-ef2c-c0344bfad1f9"
      },
      "execution_count": null,
      "outputs": [
        {
          "output_type": "execute_result",
          "data": {
            "text/plain": [
              "               open          high           low         close    Volume USD  \\\n",
              "count   2652.000000   2652.000000   2652.000000   2652.000000  2.652000e+03   \n",
              "mean   12817.097939  13186.267542  12399.817371  12828.207655  1.497664e+08   \n",
              "std    16824.413997  17289.418026  16283.433540  16826.150324  2.171489e+08   \n",
              "min      212.630000    223.200000    162.000000    212.630000  0.000000e+00   \n",
              "25%      756.692500    773.582500    743.492500    766.082500  1.362017e+07   \n",
              "50%     6753.050000   6939.300000   6602.450000   6756.100000  6.404094e+07   \n",
              "75%    11473.000000  11791.500000  11124.500000  11478.250000  2.004097e+08   \n",
              "max    67526.000000  68958.000000  66326.000000  67526.000000  2.491339e+09   \n",
              "\n",
              "          Volume BTC  \n",
              "count    2652.000000  \n",
              "mean    18381.609947  \n",
              "std     20526.790610  \n",
              "min         0.000000  \n",
              "25%      5678.644934  \n",
              "50%     10971.855000  \n",
              "75%     23124.732500  \n",
              "max    266768.610000  "
            ],
            "text/html": [
              "\n",
              "  <div id=\"df-b71f31fc-a075-47ce-935a-a608da0a17e8\">\n",
              "    <div class=\"colab-df-container\">\n",
              "      <div>\n",
              "<style scoped>\n",
              "    .dataframe tbody tr th:only-of-type {\n",
              "        vertical-align: middle;\n",
              "    }\n",
              "\n",
              "    .dataframe tbody tr th {\n",
              "        vertical-align: top;\n",
              "    }\n",
              "\n",
              "    .dataframe thead th {\n",
              "        text-align: right;\n",
              "    }\n",
              "</style>\n",
              "<table border=\"1\" class=\"dataframe\">\n",
              "  <thead>\n",
              "    <tr style=\"text-align: right;\">\n",
              "      <th></th>\n",
              "      <th>open</th>\n",
              "      <th>high</th>\n",
              "      <th>low</th>\n",
              "      <th>close</th>\n",
              "      <th>Volume USD</th>\n",
              "      <th>Volume BTC</th>\n",
              "    </tr>\n",
              "  </thead>\n",
              "  <tbody>\n",
              "    <tr>\n",
              "      <th>count</th>\n",
              "      <td>2652.000000</td>\n",
              "      <td>2652.000000</td>\n",
              "      <td>2652.000000</td>\n",
              "      <td>2652.000000</td>\n",
              "      <td>2.652000e+03</td>\n",
              "      <td>2652.000000</td>\n",
              "    </tr>\n",
              "    <tr>\n",
              "      <th>mean</th>\n",
              "      <td>12817.097939</td>\n",
              "      <td>13186.267542</td>\n",
              "      <td>12399.817371</td>\n",
              "      <td>12828.207655</td>\n",
              "      <td>1.497664e+08</td>\n",
              "      <td>18381.609947</td>\n",
              "    </tr>\n",
              "    <tr>\n",
              "      <th>std</th>\n",
              "      <td>16824.413997</td>\n",
              "      <td>17289.418026</td>\n",
              "      <td>16283.433540</td>\n",
              "      <td>16826.150324</td>\n",
              "      <td>2.171489e+08</td>\n",
              "      <td>20526.790610</td>\n",
              "    </tr>\n",
              "    <tr>\n",
              "      <th>min</th>\n",
              "      <td>212.630000</td>\n",
              "      <td>223.200000</td>\n",
              "      <td>162.000000</td>\n",
              "      <td>212.630000</td>\n",
              "      <td>0.000000e+00</td>\n",
              "      <td>0.000000</td>\n",
              "    </tr>\n",
              "    <tr>\n",
              "      <th>25%</th>\n",
              "      <td>756.692500</td>\n",
              "      <td>773.582500</td>\n",
              "      <td>743.492500</td>\n",
              "      <td>766.082500</td>\n",
              "      <td>1.362017e+07</td>\n",
              "      <td>5678.644934</td>\n",
              "    </tr>\n",
              "    <tr>\n",
              "      <th>50%</th>\n",
              "      <td>6753.050000</td>\n",
              "      <td>6939.300000</td>\n",
              "      <td>6602.450000</td>\n",
              "      <td>6756.100000</td>\n",
              "      <td>6.404094e+07</td>\n",
              "      <td>10971.855000</td>\n",
              "    </tr>\n",
              "    <tr>\n",
              "      <th>75%</th>\n",
              "      <td>11473.000000</td>\n",
              "      <td>11791.500000</td>\n",
              "      <td>11124.500000</td>\n",
              "      <td>11478.250000</td>\n",
              "      <td>2.004097e+08</td>\n",
              "      <td>23124.732500</td>\n",
              "    </tr>\n",
              "    <tr>\n",
              "      <th>max</th>\n",
              "      <td>67526.000000</td>\n",
              "      <td>68958.000000</td>\n",
              "      <td>66326.000000</td>\n",
              "      <td>67526.000000</td>\n",
              "      <td>2.491339e+09</td>\n",
              "      <td>266768.610000</td>\n",
              "    </tr>\n",
              "  </tbody>\n",
              "</table>\n",
              "</div>\n",
              "      <button class=\"colab-df-convert\" onclick=\"convertToInteractive('df-b71f31fc-a075-47ce-935a-a608da0a17e8')\"\n",
              "              title=\"Convert this dataframe to an interactive table.\"\n",
              "              style=\"display:none;\">\n",
              "        \n",
              "  <svg xmlns=\"http://www.w3.org/2000/svg\" height=\"24px\"viewBox=\"0 0 24 24\"\n",
              "       width=\"24px\">\n",
              "    <path d=\"M0 0h24v24H0V0z\" fill=\"none\"/>\n",
              "    <path d=\"M18.56 5.44l.94 2.06.94-2.06 2.06-.94-2.06-.94-.94-2.06-.94 2.06-2.06.94zm-11 1L8.5 8.5l.94-2.06 2.06-.94-2.06-.94L8.5 2.5l-.94 2.06-2.06.94zm10 10l.94 2.06.94-2.06 2.06-.94-2.06-.94-.94-2.06-.94 2.06-2.06.94z\"/><path d=\"M17.41 7.96l-1.37-1.37c-.4-.4-.92-.59-1.43-.59-.52 0-1.04.2-1.43.59L10.3 9.45l-7.72 7.72c-.78.78-.78 2.05 0 2.83L4 21.41c.39.39.9.59 1.41.59.51 0 1.02-.2 1.41-.59l7.78-7.78 2.81-2.81c.8-.78.8-2.07 0-2.86zM5.41 20L4 18.59l7.72-7.72 1.47 1.35L5.41 20z\"/>\n",
              "  </svg>\n",
              "      </button>\n",
              "      \n",
              "  <style>\n",
              "    .colab-df-container {\n",
              "      display:flex;\n",
              "      flex-wrap:wrap;\n",
              "      gap: 12px;\n",
              "    }\n",
              "\n",
              "    .colab-df-convert {\n",
              "      background-color: #E8F0FE;\n",
              "      border: none;\n",
              "      border-radius: 50%;\n",
              "      cursor: pointer;\n",
              "      display: none;\n",
              "      fill: #1967D2;\n",
              "      height: 32px;\n",
              "      padding: 0 0 0 0;\n",
              "      width: 32px;\n",
              "    }\n",
              "\n",
              "    .colab-df-convert:hover {\n",
              "      background-color: #E2EBFA;\n",
              "      box-shadow: 0px 1px 2px rgba(60, 64, 67, 0.3), 0px 1px 3px 1px rgba(60, 64, 67, 0.15);\n",
              "      fill: #174EA6;\n",
              "    }\n",
              "\n",
              "    [theme=dark] .colab-df-convert {\n",
              "      background-color: #3B4455;\n",
              "      fill: #D2E3FC;\n",
              "    }\n",
              "\n",
              "    [theme=dark] .colab-df-convert:hover {\n",
              "      background-color: #434B5C;\n",
              "      box-shadow: 0px 1px 3px 1px rgba(0, 0, 0, 0.15);\n",
              "      filter: drop-shadow(0px 1px 2px rgba(0, 0, 0, 0.3));\n",
              "      fill: #FFFFFF;\n",
              "    }\n",
              "  </style>\n",
              "\n",
              "      <script>\n",
              "        const buttonEl =\n",
              "          document.querySelector('#df-b71f31fc-a075-47ce-935a-a608da0a17e8 button.colab-df-convert');\n",
              "        buttonEl.style.display =\n",
              "          google.colab.kernel.accessAllowed ? 'block' : 'none';\n",
              "\n",
              "        async function convertToInteractive(key) {\n",
              "          const element = document.querySelector('#df-b71f31fc-a075-47ce-935a-a608da0a17e8');\n",
              "          const dataTable =\n",
              "            await google.colab.kernel.invokeFunction('convertToInteractive',\n",
              "                                                     [key], {});\n",
              "          if (!dataTable) return;\n",
              "\n",
              "          const docLinkHtml = 'Like what you see? Visit the ' +\n",
              "            '<a target=\"_blank\" href=https://colab.research.google.com/notebooks/data_table.ipynb>data table notebook</a>'\n",
              "            + ' to learn more about interactive tables.';\n",
              "          element.innerHTML = '';\n",
              "          dataTable['output_type'] = 'display_data';\n",
              "          await google.colab.output.renderOutput(dataTable, element);\n",
              "          const docLink = document.createElement('div');\n",
              "          docLink.innerHTML = docLinkHtml;\n",
              "          element.appendChild(docLink);\n",
              "        }\n",
              "      </script>\n",
              "    </div>\n",
              "  </div>\n",
              "  "
            ]
          },
          "metadata": {},
          "execution_count": 3
        }
      ]
    },
    {
      "cell_type": "code",
      "source": [
        "import matplotlib.pyplot as plt\n",
        "plt.plot(bitcoin.date, bitcoin.open, label=\"Open (USD\")\n",
        "plt.legend()  # Отобразить легенду\n",
        "plt.show()  # Отобразить график"
      ],
      "metadata": {
        "colab": {
          "base_uri": "https://localhost:8080/",
          "height": 267
        },
        "id": "0YjV1qxZwZXk",
        "outputId": "7cabf056-b8b3-4b22-c33e-c7655672df3e"
      },
      "execution_count": null,
      "outputs": [
        {
          "output_type": "display_data",
          "data": {
            "text/plain": [
              "<Figure size 432x288 with 1 Axes>"
            ],
            "image/png": "[encoded data removed]"
          },
          "metadata": {
            "needs_background": "light"
          }
        }
      ]
    },
    {
      "cell_type": "code",
      "source": [
        ""
      ],
      "metadata": {
        "id": "0bNdBG7qyTkd"
      },
      "execution_count": null,
      "outputs": []
    },
    {
      "cell_type": "code",
      "source": [
        "plt.plot(bitcoin.date, bitcoin[\"Volume BTC\"], label=\"Volume BTC\")\n",
        "plt.legend()  # Отобразить легенду\n",
        "plt.show()  # Отобразить график"
      ],
      "metadata": {
        "colab": {
          "base_uri": "https://localhost:8080/",
          "height": 265
        },
        "id": "Rd686XIXVx96",
        "outputId": "f1a98dfa-1eaa-4374-ddc0-e57364d3e528"
      },
      "execution_count": null,
      "outputs": [
        {
          "output_type": "display_data",
          "data": {
            "text/plain": [
              "<Figure size 432x288 with 1 Axes>"
            ],
            "image/png": "[encoded data removed]"
          },
          "metadata": {
            "needs_background": "light"
          }
        }
      ]
    },
    {
      "cell_type": "code",
      "source": [
        ""
      ],
      "metadata": {
        "id": "B6G4M1YpyYdL"
      },
      "execution_count": null,
      "outputs": []
    },
    {
      "cell_type": "code",
      "source": [
        "plt.plot(bitcoin.date, bitcoin[\"Volume USD\"], label=\"Volume USD\")\n",
        "plt.legend()  # Отобразить легенду\n",
        "plt.show()  # Отобразить график"
      ],
      "metadata": {
        "colab": {
          "base_uri": "https://localhost:8080/",
          "height": 276
        },
        "id": "9l1FjaWMW6nR",
        "outputId": "e6743f1b-db58-41fd-9e5f-eb2e0bfb0a3d"
      },
      "execution_count": null,
      "outputs": [
        {
          "output_type": "display_data",
          "data": {
            "text/plain": [
              "<Figure size 432x288 with 1 Axes>"
            ],
            "image/png": "[encoded data removed]"
          },
          "metadata": {
            "needs_background": "light"
          }
        }
      ]
    },
    {
      "cell_type": "code",
      "source": [
        "plt.plot(bitcoin.date, bitcoin.open-bitcoin.close, label=\"Open-Close (USD)\")\n",
        "plt.legend()  # Отобразить легенду\n",
        "plt.show()  # Отобразить график"
      ],
      "metadata": {
        "colab": {
          "base_uri": "https://localhost:8080/",
          "height": 265
        },
        "id": "Zs03fq6-ytyr",
        "outputId": "5531c5de-a9e6-447d-bc39-f96242c3f17b"
      },
      "execution_count": null,
      "outputs": [
        {
          "output_type": "display_data",
          "data": {
            "text/plain": [
              "<Figure size 432x288 with 1 Axes>"
            ],
            "image/png": "[encoded data removed]"
          },
          "metadata": {
            "needs_background": "light"
          }
        }
      ]
    },
    {
      "cell_type": "code",
      "source": [
        "bitcoin[\"openclose\"] = bitcoin.open - bitcoin.close  # Feature Engineering = придумывание новых колонок на основе старых\n",
        "bitcoin[\"highlow\"] = bitcoin.high - bitcoin.low   \n",
        "bitcoin[\"open_high\"] = bitcoin[\"openclose\"] / bitcoin[\"highlow\"]\n",
        "\n",
        "bitcoin[\"month\"] = bitcoin.date.dt.month\n",
        "bitcoin[\"year\"] = bitcoin.date.dt.year\n",
        "bitcoin[\"weekday\"] = bitcoin.date.dt.weekday"
      ],
      "metadata": {
        "id": "cp3B0ni4zJ8b"
      },
      "execution_count": null,
      "outputs": []
    },
    {
      "cell_type": "code",
      "source": [
        "plt.plot(bitcoin.date, bitcoin.high-bitcoin.low, label=\"High-Low (USD)\")\n",
        "plt.legend()  # Отобразить легенду\n",
        "plt.show()  # Отобразить график"
      ],
      "metadata": {
        "colab": {
          "base_uri": "https://localhost:8080/",
          "height": 265
        },
        "outputId": "9da38927-95f5-47ca-b525-a39734c6f279",
        "id": "f0Z6TcOEznLF"
      },
      "execution_count": null,
      "outputs": [
        {
          "output_type": "display_data",
          "data": {
            "text/plain": [
              "<Figure size 432x288 with 1 Axes>"
            ],
            "image/png": "[encoded data removed]"
          },
          "metadata": {
            "needs_background": "light"
          }
        }
      ]
    },
    {
      "cell_type": "code",
      "source": [
        "(bitcoin.high-bitcoin.low).max()"
      ],
      "metadata": {
        "colab": {
          "base_uri": "https://localhost:8080/"
        },
        "id": "o-tJq6MWzyyr",
        "outputId": "98af1bd1-6ad2-4797-9aa0-6504639c6224"
      },
      "execution_count": null,
      "outputs": [
        {
          "output_type": "execute_result",
          "data": {
            "text/plain": [
              "14037.0"
            ]
          },
          "metadata": {},
          "execution_count": 10
        }
      ]
    },
    {
      "cell_type": "code",
      "source": [
        "bitcoin.date"
      ],
      "metadata": {
        "colab": {
          "base_uri": "https://localhost:8080/"
        },
        "id": "LmlEXogB0Ymj",
        "outputId": "ffa5e1fb-1d86-4df4-a238-531f83349fb2"
      },
      "execution_count": null,
      "outputs": [
        {
          "output_type": "execute_result",
          "data": {
            "text/plain": [
              "0      2015-02-09\n",
              "1      2015-02-10\n",
              "2      2015-02-11\n",
              "3      2015-02-12\n",
              "4      2015-02-13\n",
              "          ...    \n",
              "2647   2022-05-10\n",
              "2648   2022-05-11\n",
              "2649   2022-05-12\n",
              "2650   2022-05-13\n",
              "2651   2022-05-14\n",
              "Name: date, Length: 2652, dtype: datetime64[ns]"
            ]
          },
          "metadata": {},
          "execution_count": 11
        }
      ]
    },
    {
      "cell_type": "code",
      "source": [
        "bitcoin.groupby(\"weekday\")[\"Volume BTC\"].mean()"
      ],
      "metadata": {
        "colab": {
          "base_uri": "https://localhost:8080/"
        },
        "id": "KLHrUemU1x4E",
        "outputId": "746dd7d7-935f-406e-fbaf-ef99ce9f39d7"
      },
      "execution_count": null,
      "outputs": [
        {
          "output_type": "execute_result",
          "data": {
            "text/plain": [
              "weekday\n",
              "0    18387.442268\n",
              "1    19291.510763\n",
              "2    20188.969945\n",
              "3    20206.262647\n",
              "4    20332.660632\n",
              "5    14981.140207\n",
              "6    15275.086537\n",
              "Name: Volume BTC, dtype: float64"
            ]
          },
          "metadata": {},
          "execution_count": 12
        }
      ]
    },
    {
      "cell_type": "code",
      "source": [
        "# Средняя цена открытия за последние 7 дней\n",
        "# Скользящие окна\n",
        "bitcoin[\"open_mean_7d\"] = bitcoin[\"open\"].shift(1).rolling(window=7).mean()\n",
        "bitcoin[\"max_volume_btc_30d\"] = bitcoin[\"Volume BTC\"].shift(1).rolling(window=30).max()\n",
        "bitcoin[\"min_close_14d\"] = bitcoin[\"close\"].shift(1).rolling(window=14).min()\n",
        "bitcoin[[\"date\", \"open\", \"open_mean_7d\"]].head(14)"
      ],
      "metadata": {
        "colab": {
          "base_uri": "https://localhost:8080/",
          "height": 488
        },
        "id": "x2B8vlwm24Gd",
        "outputId": "f19174dd-dd33-408a-b528-684b7a6714e0"
      },
      "execution_count": null,
      "outputs": [
        {
          "output_type": "execute_result",
          "data": {
            "text/plain": [
              "         date    open  open_mean_7d\n",
              "0  2015-02-09  224.22           NaN\n",
              "1  2015-02-10  220.61           NaN\n",
              "2  2015-02-11  220.96           NaN\n",
              "3  2015-02-12  219.19           NaN\n",
              "4  2015-02-13  222.39           NaN\n",
              "5  2015-02-14  236.13           NaN\n",
              "6  2015-02-15  257.00           NaN\n",
              "7  2015-02-16  234.14    228.642857\n",
              "8  2015-02-17  236.78    230.060000\n",
              "9  2015-02-18  242.87    232.370000\n",
              "10 2015-02-19  234.80    235.500000\n",
              "11 2015-02-20  241.90    237.730000\n",
              "12 2015-02-21  245.53    240.517143\n",
              "13 2015-02-22  245.10    241.860000"
            ],
            "text/html": [
              "\n",
              "  <div id=\"df-c36ab808-1448-426d-8bfe-84255896a18c\">\n",
              "    <div class=\"colab-df-container\">\n",
              "      <div>\n",
              "<style scoped>\n",
              "    .dataframe tbody tr th:only-of-type {\n",
              "        vertical-align: middle;\n",
              "    }\n",
              "\n",
              "    .dataframe tbody tr th {\n",
              "        vertical-align: top;\n",
              "    }\n",
              "\n",
              "    .dataframe thead th {\n",
              "        text-align: right;\n",
              "    }\n",
              "</style>\n",
              "<table border=\"1\" class=\"dataframe\">\n",
              "  <thead>\n",
              "    <tr style=\"text-align: right;\">\n",
              "      <th></th>\n",
              "      <th>date</th>\n",
              "      <th>open</th>\n",
              "      <th>open_mean_7d</th>\n",
              "    </tr>\n",
              "  </thead>\n",
              "  <tbody>\n",
              "    <tr>\n",
              "      <th>0</th>\n",
              "      <td>2015-02-09</td>\n",
              "      <td>224.22</td>\n",
              "      <td>NaN</td>\n",
              "    </tr>\n",
              "    <tr>\n",
              "      <th>1</th>\n",
              "      <td>2015-02-10</td>\n",
              "      <td>220.61</td>\n",
              "      <td>NaN</td>\n",
              "    </tr>\n",
              "    <tr>\n",
              "      <th>2</th>\n",
              "      <td>2015-02-11</td>\n",
              "      <td>220.96</td>\n",
              "      <td>NaN</td>\n",
              "    </tr>\n",
              "    <tr>\n",
              "      <th>3</th>\n",
              "      <td>2015-02-12</td>\n",
              "      <td>219.19</td>\n",
              "      <td>NaN</td>\n",
              "    </tr>\n",
              "    <tr>\n",
              "      <th>4</th>\n",
              "      <td>2015-02-13</td>\n",
              "      <td>222.39</td>\n",
              "      <td>NaN</td>\n",
              "    </tr>\n",
              "    <tr>\n",
              "      <th>5</th>\n",
              "      <td>2015-02-14</td>\n",
              "      <td>236.13</td>\n",
              "      <td>NaN</td>\n",
              "    </tr>\n",
              "    <tr>\n",
              "      <th>6</th>\n",
              "      <td>2015-02-15</td>\n",
              "      <td>257.00</td>\n",
              "      <td>NaN</td>\n",
              "    </tr>\n",
              "    <tr>\n",
              "      <th>7</th>\n",
              "      <td>2015-02-16</td>\n",
              "      <td>234.14</td>\n",
              "      <td>228.642857</td>\n",
              "    </tr>\n",
              "    <tr>\n",
              "      <th>8</th>\n",
              "      <td>2015-02-17</td>\n",
              "      <td>236.78</td>\n",
              "      <td>230.060000</td>\n",
              "    </tr>\n",
              "    <tr>\n",
              "      <th>9</th>\n",
              "      <td>2015-02-18</td>\n",
              "      <td>242.87</td>\n",
              "      <td>232.370000</td>\n",
              "    </tr>\n",
              "    <tr>\n",
              "      <th>10</th>\n",
              "      <td>2015-02-19</td>\n",
              "      <td>234.80</td>\n",
              "      <td>235.500000</td>\n",
              "    </tr>\n",
              "    <tr>\n",
              "      <th>11</th>\n",
              "      <td>2015-02-20</td>\n",
              "      <td>241.90</td>\n",
              "      <td>237.730000</td>\n",
              "    </tr>\n",
              "    <tr>\n",
              "      <th>12</th>\n",
              "      <td>2015-02-21</td>\n",
              "      <td>245.53</td>\n",
              "      <td>240.517143</td>\n",
              "    </tr>\n",
              "    <tr>\n",
              "      <th>13</th>\n",
              "      <td>2015-02-22</td>\n",
              "      <td>245.10</td>\n",
              "      <td>241.860000</td>\n",
              "    </tr>\n",
              "  </tbody>\n",
              "</table>\n",
              "</div>\n",
              "      <button class=\"colab-df-convert\" onclick=\"convertToInteractive('df-c36ab808-1448-426d-8bfe-84255896a18c')\"\n",
              "              title=\"Convert this dataframe to an interactive table.\"\n",
              "              style=\"display:none;\">\n",
              "        \n",
              "  <svg xmlns=\"http://www.w3.org/2000/svg\" height=\"24px\"viewBox=\"0 0 24 24\"\n",
              "       width=\"24px\">\n",
              "    <path d=\"M0 0h24v24H0V0z\" fill=\"none\"/>\n",
              "    <path d=\"M18.56 5.44l.94 2.06.94-2.06 2.06-.94-2.06-.94-.94-2.06-.94 2.06-2.06.94zm-11 1L8.5 8.5l.94-2.06 2.06-.94-2.06-.94L8.5 2.5l-.94 2.06-2.06.94zm10 10l.94 2.06.94-2.06 2.06-.94-2.06-.94-.94-2.06-.94 2.06-2.06.94z\"/><path d=\"M17.41 7.96l-1.37-1.37c-.4-.4-.92-.59-1.43-.59-.52 0-1.04.2-1.43.59L10.3 9.45l-7.72 7.72c-.78.78-.78 2.05 0 2.83L4 21.41c.39.39.9.59 1.41.59.51 0 1.02-.2 1.41-.59l7.78-7.78 2.81-2.81c.8-.78.8-2.07 0-2.86zM5.41 20L4 18.59l7.72-7.72 1.47 1.35L5.41 20z\"/>\n",
              "  </svg>\n",
              "      </button>\n",
              "      \n",
              "  <style>\n",
              "    .colab-df-container {\n",
              "      display:flex;\n",
              "      flex-wrap:wrap;\n",
              "      gap: 12px;\n",
              "    }\n",
              "\n",
              "    .colab-df-convert {\n",
              "      background-color: #E8F0FE;\n",
              "      border: none;\n",
              "      border-radius: 50%;\n",
              "      cursor: pointer;\n",
              "      display: none;\n",
              "      fill: #1967D2;\n",
              "      height: 32px;\n",
              "      padding: 0 0 0 0;\n",
              "      width: 32px;\n",
              "    }\n",
              "\n",
              "    .colab-df-convert:hover {\n",
              "      background-color: #E2EBFA;\n",
              "      box-shadow: 0px 1px 2px rgba(60, 64, 67, 0.3), 0px 1px 3px 1px rgba(60, 64, 67, 0.15);\n",
              "      fill: #174EA6;\n",
              "    }\n",
              "\n",
              "    [theme=dark] .colab-df-convert {\n",
              "      background-color: #3B4455;\n",
              "      fill: #D2E3FC;\n",
              "    }\n",
              "\n",
              "    [theme=dark] .colab-df-convert:hover {\n",
              "      background-color: #434B5C;\n",
              "      box-shadow: 0px 1px 3px 1px rgba(0, 0, 0, 0.15);\n",
              "      filter: drop-shadow(0px 1px 2px rgba(0, 0, 0, 0.3));\n",
              "      fill: #FFFFFF;\n",
              "    }\n",
              "  </style>\n",
              "\n",
              "      <script>\n",
              "        const buttonEl =\n",
              "          document.querySelector('#df-c36ab808-1448-426d-8bfe-84255896a18c button.colab-df-convert');\n",
              "        buttonEl.style.display =\n",
              "          google.colab.kernel.accessAllowed ? 'block' : 'none';\n",
              "\n",
              "        async function convertToInteractive(key) {\n",
              "          const element = document.querySelector('#df-c36ab808-1448-426d-8bfe-84255896a18c');\n",
              "          const dataTable =\n",
              "            await google.colab.kernel.invokeFunction('convertToInteractive',\n",
              "                                                     [key], {});\n",
              "          if (!dataTable) return;\n",
              "\n",
              "          const docLinkHtml = 'Like what you see? Visit the ' +\n",
              "            '<a target=\"_blank\" href=https://colab.research.google.com/notebooks/data_table.ipynb>data table notebook</a>'\n",
              "            + ' to learn more about interactive tables.';\n",
              "          element.innerHTML = '';\n",
              "          dataTable['output_type'] = 'display_data';\n",
              "          await google.colab.output.renderOutput(dataTable, element);\n",
              "          const docLink = document.createElement('div');\n",
              "          docLink.innerHTML = docLinkHtml;\n",
              "          element.appendChild(docLink);\n",
              "        }\n",
              "      </script>\n",
              "    </div>\n",
              "  </div>\n",
              "  "
            ]
          },
          "metadata": {},
          "execution_count": 13
        }
      ]
    },
    {
      "cell_type": "code",
      "source": [
        "for day in range(1,8):\n",
        "  bitcoin[f\"close_{day}d\"] = bitcoin[\"close\"].shift(day)"
      ],
      "metadata": {
        "id": "Fx-TnSHK9tsD"
      },
      "execution_count": null,
      "outputs": []
    },
    {
      "cell_type": "code",
      "source": [
        "# Подготовка данных\n",
        "# Разворачивание категориальных колонок\n",
        "bitcoin = pd.get_dummies(bitcoin, columns=[\"year\", \"month\", \"weekday\"])\n",
        "\n",
        "# Удаляем лишние колонки\n",
        "bitcoin.drop(\"date\", axis=1, inplace=True)\n",
        "bitcoin.drop(\"symbol\", axis=1, inplace=True)\n",
        "\n",
        "# Удаляем дишние строки\n",
        "# bitcoin.dropna(inplace=True)\n",
        "\n",
        "# ИЛИ заполнить лишние строки\n",
        "bitcoin.fillna(method=\"backfill\", inplace=True)"
      ],
      "metadata": {
        "id": "tAygHSkz8Vtb"
      },
      "execution_count": null,
      "outputs": []
    },
    {
      "cell_type": "code",
      "source": [
        "# Предсказать close\n",
        "\n",
        "bitcoin[\"target\"] = bitcoin[\"close\"].shift(-1)\n",
        "\n",
        "bitcoin[[\"open\", \"close\", \"high\", \"low\", \"target\"]].head()\n"
      ],
      "metadata": {
        "colab": {
          "base_uri": "https://localhost:8080/",
          "height": 206
        },
        "id": "K8QqnDeMAAET",
        "outputId": "d824513e-1dc0-47d0-8804-4b01eff9e00f"
      },
      "execution_count": null,
      "outputs": [
        {
          "output_type": "execute_result",
          "data": {
            "text/plain": [
              "     open   close    high     low  target\n",
              "0  224.22  220.61  225.00  215.40  220.96\n",
              "1  220.61  220.96  223.88  214.00  219.19\n",
              "2  220.96  219.19  224.40  218.10  222.60\n",
              "3  219.19  222.60  223.20  217.87  236.00\n",
              "4  222.39  236.00  241.76  221.46  258.12"
            ],
            "text/html": [
              "\n",
              "  <div id=\"df-558ea525-f681-44df-8975-f9d229e9c1e4\">\n",
              "    <div class=\"colab-df-container\">\n",
              "      <div>\n",
              "<style scoped>\n",
              "    .dataframe tbody tr th:only-of-type {\n",
              "        vertical-align: middle;\n",
              "    }\n",
              "\n",
              "    .dataframe tbody tr th {\n",
              "        vertical-align: top;\n",
              "    }\n",
              "\n",
              "    .dataframe thead th {\n",
              "        text-align: right;\n",
              "    }\n",
              "</style>\n",
              "<table border=\"1\" class=\"dataframe\">\n",
              "  <thead>\n",
              "    <tr style=\"text-align: right;\">\n",
              "      <th></th>\n",
              "      <th>open</th>\n",
              "      <th>close</th>\n",
              "      <th>high</th>\n",
              "      <th>low</th>\n",
              "      <th>target</th>\n",
              "    </tr>\n",
              "  </thead>\n",
              "  <tbody>\n",
              "    <tr>\n",
              "      <th>0</th>\n",
              "      <td>224.22</td>\n",
              "      <td>220.61</td>\n",
              "      <td>225.00</td>\n",
              "      <td>215.40</td>\n",
              "      <td>220.96</td>\n",
              "    </tr>\n",
              "    <tr>\n",
              "      <th>1</th>\n",
              "      <td>220.61</td>\n",
              "      <td>220.96</td>\n",
              "      <td>223.88</td>\n",
              "      <td>214.00</td>\n",
              "      <td>219.19</td>\n",
              "    </tr>\n",
              "    <tr>\n",
              "      <th>2</th>\n",
              "      <td>220.96</td>\n",
              "      <td>219.19</td>\n",
              "      <td>224.40</td>\n",
              "      <td>218.10</td>\n",
              "      <td>222.60</td>\n",
              "    </tr>\n",
              "    <tr>\n",
              "      <th>3</th>\n",
              "      <td>219.19</td>\n",
              "      <td>222.60</td>\n",
              "      <td>223.20</td>\n",
              "      <td>217.87</td>\n",
              "      <td>236.00</td>\n",
              "    </tr>\n",
              "    <tr>\n",
              "      <th>4</th>\n",
              "      <td>222.39</td>\n",
              "      <td>236.00</td>\n",
              "      <td>241.76</td>\n",
              "      <td>221.46</td>\n",
              "      <td>258.12</td>\n",
              "    </tr>\n",
              "  </tbody>\n",
              "</table>\n",
              "</div>\n",
              "      <button class=\"colab-df-convert\" onclick=\"convertToInteractive('df-558ea525-f681-44df-8975-f9d229e9c1e4')\"\n",
              "              title=\"Convert this dataframe to an interactive table.\"\n",
              "              style=\"display:none;\">\n",
              "        \n",
              "  <svg xmlns=\"http://www.w3.org/2000/svg\" height=\"24px\"viewBox=\"0 0 24 24\"\n",
              "       width=\"24px\">\n",
              "    <path d=\"M0 0h24v24H0V0z\" fill=\"none\"/>\n",
              "    <path d=\"M18.56 5.44l.94 2.06.94-2.06 2.06-.94-2.06-.94-.94-2.06-.94 2.06-2.06.94zm-11 1L8.5 8.5l.94-2.06 2.06-.94-2.06-.94L8.5 2.5l-.94 2.06-2.06.94zm10 10l.94 2.06.94-2.06 2.06-.94-2.06-.94-.94-2.06-.94 2.06-2.06.94z\"/><path d=\"M17.41 7.96l-1.37-1.37c-.4-.4-.92-.59-1.43-.59-.52 0-1.04.2-1.43.59L10.3 9.45l-7.72 7.72c-.78.78-.78 2.05 0 2.83L4 21.41c.39.39.9.59 1.41.59.51 0 1.02-.2 1.41-.59l7.78-7.78 2.81-2.81c.8-.78.8-2.07 0-2.86zM5.41 20L4 18.59l7.72-7.72 1.47 1.35L5.41 20z\"/>\n",
              "  </svg>\n",
              "      </button>\n",
              "      \n",
              "  <style>\n",
              "    .colab-df-container {\n",
              "      display:flex;\n",
              "      flex-wrap:wrap;\n",
              "      gap: 12px;\n",
              "    }\n",
              "\n",
              "    .colab-df-convert {\n",
              "      background-color: #E8F0FE;\n",
              "      border: none;\n",
              "      border-radius: 50%;\n",
              "      cursor: pointer;\n",
              "      display: none;\n",
              "      fill: #1967D2;\n",
              "      height: 32px;\n",
              "      padding: 0 0 0 0;\n",
              "      width: 32px;\n",
              "    }\n",
              "\n",
              "    .colab-df-convert:hover {\n",
              "      background-color: #E2EBFA;\n",
              "      box-shadow: 0px 1px 2px rgba(60, 64, 67, 0.3), 0px 1px 3px 1px rgba(60, 64, 67, 0.15);\n",
              "      fill: #174EA6;\n",
              "    }\n",
              "\n",
              "    [theme=dark] .colab-df-convert {\n",
              "      background-color: #3B4455;\n",
              "      fill: #D2E3FC;\n",
              "    }\n",
              "\n",
              "    [theme=dark] .colab-df-convert:hover {\n",
              "      background-color: #434B5C;\n",
              "      box-shadow: 0px 1px 3px 1px rgba(0, 0, 0, 0.15);\n",
              "      filter: drop-shadow(0px 1px 2px rgba(0, 0, 0, 0.3));\n",
              "      fill: #FFFFFF;\n",
              "    }\n",
              "  </style>\n",
              "\n",
              "      <script>\n",
              "        const buttonEl =\n",
              "          document.querySelector('#df-558ea525-f681-44df-8975-f9d229e9c1e4 button.colab-df-convert');\n",
              "        buttonEl.style.display =\n",
              "          google.colab.kernel.accessAllowed ? 'block' : 'none';\n",
              "\n",
              "        async function convertToInteractive(key) {\n",
              "          const element = document.querySelector('#df-558ea525-f681-44df-8975-f9d229e9c1e4');\n",
              "          const dataTable =\n",
              "            await google.colab.kernel.invokeFunction('convertToInteractive',\n",
              "                                                     [key], {});\n",
              "          if (!dataTable) return;\n",
              "\n",
              "          const docLinkHtml = 'Like what you see? Visit the ' +\n",
              "            '<a target=\"_blank\" href=https://colab.research.google.com/notebooks/data_table.ipynb>data table notebook</a>'\n",
              "            + ' to learn more about interactive tables.';\n",
              "          element.innerHTML = '';\n",
              "          dataTable['output_type'] = 'display_data';\n",
              "          await google.colab.output.renderOutput(dataTable, element);\n",
              "          const docLink = document.createElement('div');\n",
              "          docLink.innerHTML = docLinkHtml;\n",
              "          element.appendChild(docLink);\n",
              "        }\n",
              "      </script>\n",
              "    </div>\n",
              "  </div>\n",
              "  "
            ]
          },
          "metadata": {},
          "execution_count": 16
        }
      ]
    },
    {
      "cell_type": "code",
      "source": [
        "X = bitcoin[:-1].drop(\"target\", axis=1)\n",
        "y = bitcoin[:-1].target"
      ],
      "metadata": {
        "id": "cuYmtDbiA9xb"
      },
      "execution_count": null,
      "outputs": []
    },
    {
      "cell_type": "code",
      "source": [
        "# Разделим данные на две части\n",
        "# Тренировочную (обучающую) = Train Set, модель на ней обучается, учебник (Х_train, y_train)\n",
        "# Тестовую (проверочную) = Test Set, проверяем качество модели, экзамен (Х_test) => y_pred == y_true "
      ],
      "metadata": {
        "id": "dd3AQ5eZBGTa"
      },
      "execution_count": null,
      "outputs": []
    },
    {
      "cell_type": "code",
      "source": [
        "from sklearn.model_selection import train_test_split\n",
        "\n",
        "X_train, X_test, y_train, y_test = train_test_split(X, y, test_size=0.33, random_state=42)\n",
        "\n",
        "# random_state=42 Генерирует одинаковые произвольные числа на разных компьютерах"
      ],
      "metadata": {
        "id": "8MzAU6rvB05U"
      },
      "execution_count": null,
      "outputs": []
    },
    {
      "cell_type": "code",
      "source": [
        "from sklearn.linear_model import LinearRegression\n",
        "from sklearn.ensemble import RandomForestRegressor\n",
        "from sklearn.metrics import max_error, mean_absolute_error, mean_squared_error"
      ],
      "metadata": {
        "id": "bvHM2rtpC1Wt"
      },
      "execution_count": null,
      "outputs": []
    },
    {
      "cell_type": "code",
      "source": [
        "linreg = LinearRegression()\n",
        "model = linreg\n",
        "model.fit(X_train, y_train)\n",
        "train_score = model.score(X_train, y_train) # Насколько хорошо модель усвоила учебник\n",
        "test_score = model.score(X_test, y_test) # асколько хорошо модель сдала экзамен\n",
        "y_pred = model.predict(X_test)\n",
        "\n",
        "print(\"train_score = \", train_score)\n",
        "print(\"test_score = \", test_score)\n",
        "print(\"max_error = \", max_error(y_pred, y_test))\n",
        "print(\"mean_absolute_error = \", mean_absolute_error(y_pred, y_test))\n",
        "print(\"mean_squared_error = \", mean_squared_error(y_pred, y_test))"
      ],
      "metadata": {
        "colab": {
          "base_uri": "https://localhost:8080/"
        },
        "id": "hBNBs7iXENaV",
        "outputId": "7a6a0f9b-befa-4e1a-bd1f-d47b8ec3de6d"
      },
      "execution_count": null,
      "outputs": [
        {
          "output_type": "stream",
          "name": "stdout",
          "text": [
            "train_score =  0.997868691008567\n",
            "test_score =  0.9971815850498759\n",
            "max_error =  6667.25776771213\n",
            "mean_absolute_error =  430.4002047514986\n",
            "mean_squared_error =  753882.9896639865\n"
          ]
        }
      ]
    },
    {
      "cell_type": "code",
      "source": [
        "model = RandomForestRegressor(n_estimators=5000)\n",
        "model.fit(X_train, y_train)\n",
        "train_score = model.score(X_train, y_train) # Насколько хорошо модель усвоила учебник\n",
        "test_score = model.score(X_test, y_test) # асколько хорошо модель сдала экзамен\n",
        "y_pred = model.predict(X_test)\n",
        "\n",
        "print(\"train_score = \", train_score)\n",
        "print(\"test_score = \", test_score)\n",
        "print(\"max_error = \", max_error(y_pred, y_test))\n",
        "print(\"mean_absolute_error = \", mean_absolute_error(y_pred, y_test))\n",
        "print(\"mean_squared_error = \", mean_squared_error(y_pred, y_test))"
      ],
      "metadata": {
        "colab": {
          "base_uri": "https://localhost:8080/"
        },
        "id": "jB1GeCt2KhsD",
        "outputId": "1edcea44-5d20-48be-f91b-8b823be8be83"
      },
      "execution_count": null,
      "outputs": [
        {
          "output_type": "stream",
          "name": "stdout",
          "text": [
            "train_score =  0.999645237275988\n",
            "test_score =  0.9965606198411426\n",
            "max_error =  7633.467421912763\n",
            "mean_absolute_error =  434.30638857575855\n",
            "mean_squared_error =  919981.7069648369\n"
          ]
        }
      ]
    },
    {
      "cell_type": "code",
      "source": [
        "plt.plot(model.predict(X))"
      ],
      "metadata": {
        "colab": {
          "base_uri": "https://localhost:8080/",
          "height": 282
        },
        "id": "rCFRc3yqKzmU",
        "outputId": "3d314ef1-3df7-4a42-a6e4-1f366e1dfdc8"
      },
      "execution_count": null,
      "outputs": [
        {
          "output_type": "execute_result",
          "data": {
            "text/plain": [
              "[<matplotlib.lines.Line2D at 0x7f70c6df6450>]"
            ]
          },
          "metadata": {},
          "execution_count": 23
        },
        {
          "output_type": "display_data",
          "data": {
            "text/plain": [
              "<Figure size 432x288 with 1 Axes>"
            ],
            "image/png": "[encoded data removed]"
          },
          "metadata": {
            "needs_background": "light"
          }
        }
      ]
    },
    {
      "cell_type": "code",
      "source": [
        "y.plot()"
      ],
      "metadata": {
        "colab": {
          "base_uri": "https://localhost:8080/",
          "height": 284
        },
        "id": "zsk4Q7LwLLla",
        "outputId": "1c4d9735-1549-4b42-df28-2f754960f5dc"
      },
      "execution_count": null,
      "outputs": [
        {
          "output_type": "execute_result",
          "data": {
            "text/plain": [
              "<matplotlib.axes._subplots.AxesSubplot at 0x7f70c6e5d550>"
            ]
          },
          "metadata": {},
          "execution_count": 24
        },
        {
          "output_type": "display_data",
          "data": {
            "text/plain": [
              "<Figure size 432x288 with 1 Axes>"
            ],
            "image/png": "[encoded data removed]"
          },
          "metadata": {
            "needs_background": "light"
          }
        }
      ]
    },
    {
      "cell_type": "code",
      "source": [
        "plt.plot(model.predict(X) - y)"
      ],
      "metadata": {
        "colab": {
          "base_uri": "https://localhost:8080/",
          "height": 282
        },
        "id": "18xkCoq0LPx8",
        "outputId": "7cfc64f4-5886-4172-9983-c230431e8b33"
      },
      "execution_count": null,
      "outputs": [
        {
          "output_type": "execute_result",
          "data": {
            "text/plain": [
              "[<matplotlib.lines.Line2D at 0x7f70c6d3d290>]"
            ]
          },
          "metadata": {},
          "execution_count": 25
        },
        {
          "output_type": "display_data",
          "data": {
            "text/plain": [
              "<Figure size 432x288 with 1 Axes>"
            ],
            "image/png": "[encoded data removed]"
          },
          "metadata": {
            "needs_background": "light"
          }
        }
      ]
    },
    {
      "cell_type": "code",
      "source": [
        "model.feature_importances_"
      ],
      "metadata": {
        "colab": {
          "base_uri": "https://localhost:8080/"
        },
        "id": "ZzGtC8_6Sbhz",
        "outputId": "3b31d9a6-d3cb-49ba-e3bd-f8a34a35c82b"
      },
      "execution_count": null,
      "outputs": [
        {
          "output_type": "execute_result",
          "data": {
            "text/plain": [
              "array([3.51573498e-02, 1.70718132e-01, 4.57936941e-02, 2.26790515e-01,\n",
              "       6.33933635e-05, 5.94843155e-05, 7.80129777e-05, 9.23388426e-05,\n",
              "       8.42092514e-05, 8.56300760e-02, 4.89173283e-05, 6.63326401e-02,\n",
              "       3.84358505e-02, 3.34572092e-02, 2.17577726e-02, 8.16308121e-03,\n",
              "       6.13045973e-02, 5.54118299e-02, 1.50283346e-01, 7.71420966e-11,\n",
              "       9.42002257e-10, 1.72962365e-06, 1.21699171e-06, 8.11662162e-07,\n",
              "       2.17023109e-06, 9.55615857e-05, 4.83209054e-06, 4.77448164e-06,\n",
              "       2.57158587e-05, 4.89025630e-06, 2.25624985e-05, 1.34745160e-05,\n",
              "       3.29908775e-06, 2.73248745e-06, 8.24906268e-06, 6.85049800e-06,\n",
              "       3.72395339e-06, 3.25604942e-06, 8.74137244e-06, 9.40651282e-06,\n",
              "       1.82350725e-05, 2.77713663e-05, 1.28813974e-05, 1.27790670e-05,\n",
              "       6.00647137e-06, 3.58760115e-05])"
            ]
          },
          "metadata": {},
          "execution_count": 26
        }
      ]
    },
    {
      "cell_type": "code",
      "source": [
        "model.feature_names_in_"
      ],
      "metadata": {
        "colab": {
          "base_uri": "https://localhost:8080/"
        },
        "id": "Z_vQWnoASfu7",
        "outputId": "63ee4e30-c45a-46a9-9c01-86c3163028c8"
      },
      "execution_count": null,
      "outputs": [
        {
          "output_type": "execute_result",
          "data": {
            "text/plain": [
              "array(['open', 'high', 'low', 'close', 'Volume USD', 'Volume BTC',\n",
              "       'openclose', 'highlow', 'open_high', 'open_mean_7d',\n",
              "       'max_volume_btc_30d', 'min_close_14d', 'close_1d', 'close_2d',\n",
              "       'close_3d', 'close_4d', 'close_5d', 'close_6d', 'close_7d',\n",
              "       'year_2015', 'year_2016', 'year_2017', 'year_2018', 'year_2019',\n",
              "       'year_2020', 'year_2021', 'year_2022', 'month_1', 'month_2',\n",
              "       'month_3', 'month_4', 'month_5', 'month_6', 'month_7', 'month_8',\n",
              "       'month_9', 'month_10', 'month_11', 'month_12', 'weekday_0',\n",
              "       'weekday_1', 'weekday_2', 'weekday_3', 'weekday_4', 'weekday_5',\n",
              "       'weekday_6'], dtype=object)"
            ]
          },
          "metadata": {},
          "execution_count": 27
        }
      ]
    },
    {
      "cell_type": "code",
      "source": [
        "len(model.feature_names_in_)"
      ],
      "metadata": {
        "colab": {
          "base_uri": "https://localhost:8080/"
        },
        "id": "lF6vf6xySm3c",
        "outputId": "4a8e2eb2-3ea4-4d35-eac0-d62b59d38257"
      },
      "execution_count": null,
      "outputs": [
        {
          "output_type": "execute_result",
          "data": {
            "text/plain": [
              "46"
            ]
          },
          "metadata": {},
          "execution_count": 28
        }
      ]
    },
    {
      "cell_type": "code",
      "source": [
        "X.shape"
      ],
      "metadata": {
        "colab": {
          "base_uri": "https://localhost:8080/"
        },
        "id": "OkB6ZaojSrrD",
        "outputId": "1f3635ae-178e-4c9f-af7a-e719590e0359"
      },
      "execution_count": null,
      "outputs": [
        {
          "output_type": "execute_result",
          "data": {
            "text/plain": [
              "(2651, 46)"
            ]
          },
          "metadata": {},
          "execution_count": 29
        }
      ]
    },
    {
      "cell_type": "code",
      "source": [
        "pd.DataFrame(data=[model.feature_importances_], columns=model.feature_names_in_).T.sort_values(by=0, ascending=False)"
      ],
      "metadata": {
        "colab": {
          "base_uri": "https://localhost:8080/",
          "height": 1000
        },
        "id": "HufHqdLbTBcz",
        "outputId": "c0edf0e9-5968-4ec0-d982-a363abda2d1c"
      },
      "execution_count": null,
      "outputs": [
        {
          "output_type": "execute_result",
          "data": {
            "text/plain": [
              "                               0\n",
              "close               2.267905e-01\n",
              "high                1.707181e-01\n",
              "close_7d            1.502833e-01\n",
              "open_mean_7d        8.563008e-02\n",
              "min_close_14d       6.633264e-02\n",
              "close_5d            6.130460e-02\n",
              "close_6d            5.541183e-02\n",
              "low                 4.579369e-02\n",
              "close_1d            3.843585e-02\n",
              "open                3.515735e-02\n",
              "close_2d            3.345721e-02\n",
              "close_3d            2.175777e-02\n",
              "close_4d            8.163081e-03\n",
              "year_2021           9.556159e-05\n",
              "highlow             9.233884e-05\n",
              "open_high           8.420925e-05\n",
              "openclose           7.801298e-05\n",
              "Volume USD          6.339336e-05\n",
              "Volume BTC          5.948432e-05\n",
              "max_volume_btc_30d  4.891733e-05\n",
              "weekday_6           3.587601e-05\n",
              "weekday_2           2.777137e-05\n",
              "month_2             2.571586e-05\n",
              "month_4             2.256250e-05\n",
              "weekday_1           1.823507e-05\n",
              "month_5             1.347452e-05\n",
              "weekday_3           1.288140e-05\n",
              "weekday_4           1.277907e-05\n",
              "weekday_0           9.406513e-06\n",
              "month_12            8.741372e-06\n",
              "month_8             8.249063e-06\n",
              "month_9             6.850498e-06\n",
              "weekday_5           6.006471e-06\n",
              "month_3             4.890256e-06\n",
              "year_2022           4.832091e-06\n",
              "month_1             4.774482e-06\n",
              "month_10            3.723953e-06\n",
              "month_6             3.299088e-06\n",
              "month_11            3.256049e-06\n",
              "month_7             2.732487e-06\n",
              "year_2020           2.170231e-06\n",
              "year_2017           1.729624e-06\n",
              "year_2018           1.216992e-06\n",
              "year_2019           8.116622e-07\n",
              "year_2016           9.420023e-10\n",
              "year_2015           7.714210e-11"
            ],
            "text/html": [
              "\n",
              "  <div id=\"df-7781d058-52a4-4623-87d0-d8d154f3ceb8\">\n",
              "    <div class=\"colab-df-container\">\n",
              "      <div>\n",
              "<style scoped>\n",
              "    .dataframe tbody tr th:only-of-type {\n",
              "        vertical-align: middle;\n",
              "    }\n",
              "\n",
              "    .dataframe tbody tr th {\n",
              "        vertical-align: top;\n",
              "    }\n",
              "\n",
              "    .dataframe thead th {\n",
              "        text-align: right;\n",
              "    }\n",
              "</style>\n",
              "<table border=\"1\" class=\"dataframe\">\n",
              "  <thead>\n",
              "    <tr style=\"text-align: right;\">\n",
              "      <th></th>\n",
              "      <th>0</th>\n",
              "    </tr>\n",
              "  </thead>\n",
              "  <tbody>\n",
              "    <tr>\n",
              "      <th>close</th>\n",
              "      <td>2.267905e-01</td>\n",
              "    </tr>\n",
              "    <tr>\n",
              "      <th>high</th>\n",
              "      <td>1.707181e-01</td>\n",
              "    </tr>\n",
              "    <tr>\n",
              "      <th>close_7d</th>\n",
              "      <td>1.502833e-01</td>\n",
              "    </tr>\n",
              "    <tr>\n",
              "      <th>open_mean_7d</th>\n",
              "      <td>8.563008e-02</td>\n",
              "    </tr>\n",
              "    <tr>\n",
              "      <th>min_close_14d</th>\n",
              "      <td>6.633264e-02</td>\n",
              "    </tr>\n",
              "    <tr>\n",
              "      <th>close_5d</th>\n",
              "      <td>6.130460e-02</td>\n",
              "    </tr>\n",
              "    <tr>\n",
              "      <th>close_6d</th>\n",
              "      <td>5.541183e-02</td>\n",
              "    </tr>\n",
              "    <tr>\n",
              "      <th>low</th>\n",
              "      <td>4.579369e-02</td>\n",
              "    </tr>\n",
              "    <tr>\n",
              "      <th>close_1d</th>\n",
              "      <td>3.843585e-02</td>\n",
              "    </tr>\n",
              "    <tr>\n",
              "      <th>open</th>\n",
              "      <td>3.515735e-02</td>\n",
              "    </tr>\n",
              "    <tr>\n",
              "      <th>close_2d</th>\n",
              "      <td>3.345721e-02</td>\n",
              "    </tr>\n",
              "    <tr>\n",
              "      <th>close_3d</th>\n",
              "      <td>2.175777e-02</td>\n",
              "    </tr>\n",
              "    <tr>\n",
              "      <th>close_4d</th>\n",
              "      <td>8.163081e-03</td>\n",
              "    </tr>\n",
              "    <tr>\n",
              "      <th>year_2021</th>\n",
              "      <td>9.556159e-05</td>\n",
              "    </tr>\n",
              "    <tr>\n",
              "      <th>highlow</th>\n",
              "      <td>9.233884e-05</td>\n",
              "    </tr>\n",
              "    <tr>\n",
              "      <th>open_high</th>\n",
              "      <td>8.420925e-05</td>\n",
              "    </tr>\n",
              "    <tr>\n",
              "      <th>openclose</th>\n",
              "      <td>7.801298e-05</td>\n",
              "    </tr>\n",
              "    <tr>\n",
              "      <th>Volume USD</th>\n",
              "      <td>6.339336e-05</td>\n",
              "    </tr>\n",
              "    <tr>\n",
              "      <th>Volume BTC</th>\n",
              "      <td>5.948432e-05</td>\n",
              "    </tr>\n",
              "    <tr>\n",
              "      <th>max_volume_btc_30d</th>\n",
              "      <td>4.891733e-05</td>\n",
              "    </tr>\n",
              "    <tr>\n",
              "      <th>weekday_6</th>\n",
              "      <td>3.587601e-05</td>\n",
              "    </tr>\n",
              "    <tr>\n",
              "      <th>weekday_2</th>\n",
              "      <td>2.777137e-05</td>\n",
              "    </tr>\n",
              "    <tr>\n",
              "      <th>month_2</th>\n",
              "      <td>2.571586e-05</td>\n",
              "    </tr>\n",
              "    <tr>\n",
              "      <th>month_4</th>\n",
              "      <td>2.256250e-05</td>\n",
              "    </tr>\n",
              "    <tr>\n",
              "      <th>weekday_1</th>\n",
              "      <td>1.823507e-05</td>\n",
              "    </tr>\n",
              "    <tr>\n",
              "      <th>month_5</th>\n",
              "      <td>1.347452e-05</td>\n",
              "    </tr>\n",
              "    <tr>\n",
              "      <th>weekday_3</th>\n",
              "      <td>1.288140e-05</td>\n",
              "    </tr>\n",
              "    <tr>\n",
              "      <th>weekday_4</th>\n",
              "      <td>1.277907e-05</td>\n",
              "    </tr>\n",
              "    <tr>\n",
              "      <th>weekday_0</th>\n",
              "      <td>9.406513e-06</td>\n",
              "    </tr>\n",
              "    <tr>\n",
              "      <th>month_12</th>\n",
              "      <td>8.741372e-06</td>\n",
              "    </tr>\n",
              "    <tr>\n",
              "      <th>month_8</th>\n",
              "      <td>8.249063e-06</td>\n",
              "    </tr>\n",
              "    <tr>\n",
              "      <th>month_9</th>\n",
              "      <td>6.850498e-06</td>\n",
              "    </tr>\n",
              "    <tr>\n",
              "      <th>weekday_5</th>\n",
              "      <td>6.006471e-06</td>\n",
              "    </tr>\n",
              "    <tr>\n",
              "      <th>month_3</th>\n",
              "      <td>4.890256e-06</td>\n",
              "    </tr>\n",
              "    <tr>\n",
              "      <th>year_2022</th>\n",
              "      <td>4.832091e-06</td>\n",
              "    </tr>\n",
              "    <tr>\n",
              "      <th>month_1</th>\n",
              "      <td>4.774482e-06</td>\n",
              "    </tr>\n",
              "    <tr>\n",
              "      <th>month_10</th>\n",
              "      <td>3.723953e-06</td>\n",
              "    </tr>\n",
              "    <tr>\n",
              "      <th>month_6</th>\n",
              "      <td>3.299088e-06</td>\n",
              "    </tr>\n",
              "    <tr>\n",
              "      <th>month_11</th>\n",
              "      <td>3.256049e-06</td>\n",
              "    </tr>\n",
              "    <tr>\n",
              "      <th>month_7</th>\n",
              "      <td>2.732487e-06</td>\n",
              "    </tr>\n",
              "    <tr>\n",
              "      <th>year_2020</th>\n",
              "      <td>2.170231e-06</td>\n",
              "    </tr>\n",
              "    <tr>\n",
              "      <th>year_2017</th>\n",
              "      <td>1.729624e-06</td>\n",
              "    </tr>\n",
              "    <tr>\n",
              "      <th>year_2018</th>\n",
              "      <td>1.216992e-06</td>\n",
              "    </tr>\n",
              "    <tr>\n",
              "      <th>year_2019</th>\n",
              "      <td>8.116622e-07</td>\n",
              "    </tr>\n",
              "    <tr>\n",
              "      <th>year_2016</th>\n",
              "      <td>9.420023e-10</td>\n",
              "    </tr>\n",
              "    <tr>\n",
              "      <th>year_2015</th>\n",
              "      <td>7.714210e-11</td>\n",
              "    </tr>\n",
              "  </tbody>\n",
              "</table>\n",
              "</div>\n",
              "      <button class=\"colab-df-convert\" onclick=\"convertToInteractive('df-7781d058-52a4-4623-87d0-d8d154f3ceb8')\"\n",
              "              title=\"Convert this dataframe to an interactive table.\"\n",
              "              style=\"display:none;\">\n",
              "        \n",
              "  <svg xmlns=\"http://www.w3.org/2000/svg\" height=\"24px\"viewBox=\"0 0 24 24\"\n",
              "       width=\"24px\">\n",
              "    <path d=\"M0 0h24v24H0V0z\" fill=\"none\"/>\n",
              "    <path d=\"M18.56 5.44l.94 2.06.94-2.06 2.06-.94-2.06-.94-.94-2.06-.94 2.06-2.06.94zm-11 1L8.5 8.5l.94-2.06 2.06-.94-2.06-.94L8.5 2.5l-.94 2.06-2.06.94zm10 10l.94 2.06.94-2.06 2.06-.94-2.06-.94-.94-2.06-.94 2.06-2.06.94z\"/><path d=\"M17.41 7.96l-1.37-1.37c-.4-.4-.92-.59-1.43-.59-.52 0-1.04.2-1.43.59L10.3 9.45l-7.72 7.72c-.78.78-.78 2.05 0 2.83L4 21.41c.39.39.9.59 1.41.59.51 0 1.02-.2 1.41-.59l7.78-7.78 2.81-2.81c.8-.78.8-2.07 0-2.86zM5.41 20L4 18.59l7.72-7.72 1.47 1.35L5.41 20z\"/>\n",
              "  </svg>\n",
              "      </button>\n",
              "      \n",
              "  <style>\n",
              "    .colab-df-container {\n",
              "      display:flex;\n",
              "      flex-wrap:wrap;\n",
              "      gap: 12px;\n",
              "    }\n",
              "\n",
              "    .colab-df-convert {\n",
              "      background-color: #E8F0FE;\n",
              "      border: none;\n",
              "      border-radius: 50%;\n",
              "      cursor: pointer;\n",
              "      display: none;\n",
              "      fill: #1967D2;\n",
              "      height: 32px;\n",
              "      padding: 0 0 0 0;\n",
              "      width: 32px;\n",
              "    }\n",
              "\n",
              "    .colab-df-convert:hover {\n",
              "      background-color: #E2EBFA;\n",
              "      box-shadow: 0px 1px 2px rgba(60, 64, 67, 0.3), 0px 1px 3px 1px rgba(60, 64, 67, 0.15);\n",
              "      fill: #174EA6;\n",
              "    }\n",
              "\n",
              "    [theme=dark] .colab-df-convert {\n",
              "      background-color: #3B4455;\n",
              "      fill: #D2E3FC;\n",
              "    }\n",
              "\n",
              "    [theme=dark] .colab-df-convert:hover {\n",
              "      background-color: #434B5C;\n",
              "      box-shadow: 0px 1px 3px 1px rgba(0, 0, 0, 0.15);\n",
              "      filter: drop-shadow(0px 1px 2px rgba(0, 0, 0, 0.3));\n",
              "      fill: #FFFFFF;\n",
              "    }\n",
              "  </style>\n",
              "\n",
              "      <script>\n",
              "        const buttonEl =\n",
              "          document.querySelector('#df-7781d058-52a4-4623-87d0-d8d154f3ceb8 button.colab-df-convert');\n",
              "        buttonEl.style.display =\n",
              "          google.colab.kernel.accessAllowed ? 'block' : 'none';\n",
              "\n",
              "        async function convertToInteractive(key) {\n",
              "          const element = document.querySelector('#df-7781d058-52a4-4623-87d0-d8d154f3ceb8');\n",
              "          const dataTable =\n",
              "            await google.colab.kernel.invokeFunction('convertToInteractive',\n",
              "                                                     [key], {});\n",
              "          if (!dataTable) return;\n",
              "\n",
              "          const docLinkHtml = 'Like what you see? Visit the ' +\n",
              "            '<a target=\"_blank\" href=https://colab.research.google.com/notebooks/data_table.ipynb>data table notebook</a>'\n",
              "            + ' to learn more about interactive tables.';\n",
              "          element.innerHTML = '';\n",
              "          dataTable['output_type'] = 'display_data';\n",
              "          await google.colab.output.renderOutput(dataTable, element);\n",
              "          const docLink = document.createElement('div');\n",
              "          docLink.innerHTML = docLinkHtml;\n",
              "          element.appendChild(docLink);\n",
              "        }\n",
              "      </script>\n",
              "    </div>\n",
              "  </div>\n",
              "  "
            ]
          },
          "metadata": {},
          "execution_count": 30
        }
      ]
    },
    {
      "cell_type": "code",
      "source": [
        "linreg.coef_"
      ],
      "metadata": {
        "colab": {
          "base_uri": "https://localhost:8080/"
        },
        "id": "Lak-C4zMT1nM",
        "outputId": "91e17819-d9f7-4bfb-ca1c-4902cca42617"
      },
      "execution_count": null,
      "outputs": [
        {
          "output_type": "execute_result",
          "data": {
            "text/plain": [
              "array([ 1.27443291e+00, -9.33927933e-02, -3.09717892e-02,  1.12735783e+00,\n",
              "        1.45382126e-07,  6.69032497e-04,  1.47075082e-01, -5.20346367e-02,\n",
              "       -2.79639795e+01,  2.03114788e-01, -5.26384529e-04, -8.11503072e-02,\n",
              "       -1.26468926e+00, -3.79155902e-02, -7.05839702e-03, -3.55184167e-02,\n",
              "        1.56710270e-02, -1.57201231e-01,  5.60014220e-02, -4.01851532e+02,\n",
              "       -3.96462487e+02, -2.96100656e+02, -2.40014129e+02, -1.88731994e+02,\n",
              "       -7.60194001e+01,  9.13346578e+02,  6.85833620e+02, -5.40445495e+01,\n",
              "        1.06191479e+02,  1.86140788e+00,  1.16045305e+01, -2.01721030e+02,\n",
              "       -1.03503119e+02, -4.66011463e+00, -5.82086107e+00,  4.23809176e+00,\n",
              "        1.26463926e+02,  5.90299073e+01,  6.03603327e+01,  2.24532727e+00,\n",
              "        3.01861152e+01, -8.89684192e+01,  1.98073842e+01,  3.20074544e+01,\n",
              "       -2.73552453e+01,  3.20773835e+01])"
            ]
          },
          "metadata": {},
          "execution_count": 31
        }
      ]
    },
    {
      "cell_type": "code",
      "source": [
        "linreg.intercept_"
      ],
      "metadata": {
        "colab": {
          "base_uri": "https://localhost:8080/"
        },
        "id": "ikT0JP4YUTKk",
        "outputId": "198fb2bc-d8cb-486c-8118-2ac2edbcd05f"
      },
      "execution_count": null,
      "outputs": [
        {
          "output_type": "execute_result",
          "data": {
            "text/plain": [
              "428.17032562192253"
            ]
          },
          "metadata": {},
          "execution_count": 32
        }
      ]
    },
    {
      "cell_type": "code",
      "source": [
        "pd.DataFrame(data=[linreg.coef_], columns=linreg.feature_names_in_).T.sort_values(by=0, ascending=False)"
      ],
      "metadata": {
        "colab": {
          "base_uri": "https://localhost:8080/",
          "height": 1000
        },
        "id": "JjTBbaKGUwAD",
        "outputId": "edf99be9-0945-4613-b5da-db56b6564a95"
      },
      "execution_count": null,
      "outputs": [
        {
          "output_type": "execute_result",
          "data": {
            "text/plain": [
              "                               0\n",
              "year_2021           9.133466e+02\n",
              "year_2022           6.858336e+02\n",
              "month_10            1.264639e+02\n",
              "month_2             1.061915e+02\n",
              "month_12            6.036033e+01\n",
              "month_11            5.902991e+01\n",
              "weekday_6           3.207738e+01\n",
              "weekday_4           3.200745e+01\n",
              "weekday_1           3.018612e+01\n",
              "weekday_3           1.980738e+01\n",
              "month_4             1.160453e+01\n",
              "month_9             4.238092e+00\n",
              "weekday_0           2.245327e+00\n",
              "month_3             1.861408e+00\n",
              "open                1.274433e+00\n",
              "close               1.127358e+00\n",
              "open_mean_7d        2.031148e-01\n",
              "openclose           1.470751e-01\n",
              "close_7d            5.600142e-02\n",
              "close_5d            1.567103e-02\n",
              "Volume BTC          6.690325e-04\n",
              "Volume USD          1.453821e-07\n",
              "max_volume_btc_30d -5.263845e-04\n",
              "close_3d           -7.058397e-03\n",
              "low                -3.097179e-02\n",
              "close_4d           -3.551842e-02\n",
              "close_2d           -3.791559e-02\n",
              "highlow            -5.203464e-02\n",
              "min_close_14d      -8.115031e-02\n",
              "high               -9.339279e-02\n",
              "close_6d           -1.572012e-01\n",
              "close_1d           -1.264689e+00\n",
              "month_7            -4.660115e+00\n",
              "month_8            -5.820861e+00\n",
              "weekday_5          -2.735525e+01\n",
              "open_high          -2.796398e+01\n",
              "month_1            -5.404455e+01\n",
              "year_2020          -7.601940e+01\n",
              "weekday_2          -8.896842e+01\n",
              "month_6            -1.035031e+02\n",
              "year_2019          -1.887320e+02\n",
              "month_5            -2.017210e+02\n",
              "year_2018          -2.400141e+02\n",
              "year_2017          -2.961007e+02\n",
              "year_2016          -3.964625e+02\n",
              "year_2015          -4.018515e+02"
            ],
            "text/html": [
              "\n",
              "  <div id=\"df-1926105a-24d0-487a-9981-2ed3f97046ff\">\n",
              "    <div class=\"colab-df-container\">\n",
              "      <div>\n",
              "<style scoped>\n",
              "    .dataframe tbody tr th:only-of-type {\n",
              "        vertical-align: middle;\n",
              "    }\n",
              "\n",
              "    .dataframe tbody tr th {\n",
              "        vertical-align: top;\n",
              "    }\n",
              "\n",
              "    .dataframe thead th {\n",
              "        text-align: right;\n",
              "    }\n",
              "</style>\n",
              "<table border=\"1\" class=\"dataframe\">\n",
              "  <thead>\n",
              "    <tr style=\"text-align: right;\">\n",
              "      <th></th>\n",
              "      <th>0</th>\n",
              "    </tr>\n",
              "  </thead>\n",
              "  <tbody>\n",
              "    <tr>\n",
              "      <th>year_2021</th>\n",
              "      <td>9.133466e+02</td>\n",
              "    </tr>\n",
              "    <tr>\n",
              "      <th>year_2022</th>\n",
              "      <td>6.858336e+02</td>\n",
              "    </tr>\n",
              "    <tr>\n",
              "      <th>month_10</th>\n",
              "      <td>1.264639e+02</td>\n",
              "    </tr>\n",
              "    <tr>\n",
              "      <th>month_2</th>\n",
              "      <td>1.061915e+02</td>\n",
              "    </tr>\n",
              "    <tr>\n",
              "      <th>month_12</th>\n",
              "      <td>6.036033e+01</td>\n",
              "    </tr>\n",
              "    <tr>\n",
              "      <th>month_11</th>\n",
              "      <td>5.902991e+01</td>\n",
              "    </tr>\n",
              "    <tr>\n",
              "      <th>weekday_6</th>\n",
              "      <td>3.207738e+01</td>\n",
              "    </tr>\n",
              "    <tr>\n",
              "      <th>weekday_4</th>\n",
              "      <td>3.200745e+01</td>\n",
              "    </tr>\n",
              "    <tr>\n",
              "      <th>weekday_1</th>\n",
              "      <td>3.018612e+01</td>\n",
              "    </tr>\n",
              "    <tr>\n",
              "      <th>weekday_3</th>\n",
              "      <td>1.980738e+01</td>\n",
              "    </tr>\n",
              "    <tr>\n",
              "      <th>month_4</th>\n",
              "      <td>1.160453e+01</td>\n",
              "    </tr>\n",
              "    <tr>\n",
              "      <th>month_9</th>\n",
              "      <td>4.238092e+00</td>\n",
              "    </tr>\n",
              "    <tr>\n",
              "      <th>weekday_0</th>\n",
              "      <td>2.245327e+00</td>\n",
              "    </tr>\n",
              "    <tr>\n",
              "      <th>month_3</th>\n",
              "      <td>1.861408e+00</td>\n",
              "    </tr>\n",
              "    <tr>\n",
              "      <th>open</th>\n",
              "      <td>1.274433e+00</td>\n",
              "    </tr>\n",
              "    <tr>\n",
              "      <th>close</th>\n",
              "      <td>1.127358e+00</td>\n",
              "    </tr>\n",
              "    <tr>\n",
              "      <th>open_mean_7d</th>\n",
              "      <td>2.031148e-01</td>\n",
              "    </tr>\n",
              "    <tr>\n",
              "      <th>openclose</th>\n",
              "      <td>1.470751e-01</td>\n",
              "    </tr>\n",
              "    <tr>\n",
              "      <th>close_7d</th>\n",
              "      <td>5.600142e-02</td>\n",
              "    </tr>\n",
              "    <tr>\n",
              "      <th>close_5d</th>\n",
              "      <td>1.567103e-02</td>\n",
              "    </tr>\n",
              "    <tr>\n",
              "      <th>Volume BTC</th>\n",
              "      <td>6.690325e-04</td>\n",
              "    </tr>\n",
              "    <tr>\n",
              "      <th>Volume USD</th>\n",
              "      <td>1.453821e-07</td>\n",
              "    </tr>\n",
              "    <tr>\n",
              "      <th>max_volume_btc_30d</th>\n",
              "      <td>-5.263845e-04</td>\n",
              "    </tr>\n",
              "    <tr>\n",
              "      <th>close_3d</th>\n",
              "      <td>-7.058397e-03</td>\n",
              "    </tr>\n",
              "    <tr>\n",
              "      <th>low</th>\n",
              "      <td>-3.097179e-02</td>\n",
              "    </tr>\n",
              "    <tr>\n",
              "      <th>close_4d</th>\n",
              "      <td>-3.551842e-02</td>\n",
              "    </tr>\n",
              "    <tr>\n",
              "      <th>close_2d</th>\n",
              "      <td>-3.791559e-02</td>\n",
              "    </tr>\n",
              "    <tr>\n",
              "      <th>highlow</th>\n",
              "      <td>-5.203464e-02</td>\n",
              "    </tr>\n",
              "    <tr>\n",
              "      <th>min_close_14d</th>\n",
              "      <td>-8.115031e-02</td>\n",
              "    </tr>\n",
              "    <tr>\n",
              "      <th>high</th>\n",
              "      <td>-9.339279e-02</td>\n",
              "    </tr>\n",
              "    <tr>\n",
              "      <th>close_6d</th>\n",
              "      <td>-1.572012e-01</td>\n",
              "    </tr>\n",
              "    <tr>\n",
              "      <th>close_1d</th>\n",
              "      <td>-1.264689e+00</td>\n",
              "    </tr>\n",
              "    <tr>\n",
              "      <th>month_7</th>\n",
              "      <td>-4.660115e+00</td>\n",
              "    </tr>\n",
              "    <tr>\n",
              "      <th>month_8</th>\n",
              "      <td>-5.820861e+00</td>\n",
              "    </tr>\n",
              "    <tr>\n",
              "      <th>weekday_5</th>\n",
              "      <td>-2.735525e+01</td>\n",
              "    </tr>\n",
              "    <tr>\n",
              "      <th>open_high</th>\n",
              "      <td>-2.796398e+01</td>\n",
              "    </tr>\n",
              "    <tr>\n",
              "      <th>month_1</th>\n",
              "      <td>-5.404455e+01</td>\n",
              "    </tr>\n",
              "    <tr>\n",
              "      <th>year_2020</th>\n",
              "      <td>-7.601940e+01</td>\n",
              "    </tr>\n",
              "    <tr>\n",
              "      <th>weekday_2</th>\n",
              "      <td>-8.896842e+01</td>\n",
              "    </tr>\n",
              "    <tr>\n",
              "      <th>month_6</th>\n",
              "      <td>-1.035031e+02</td>\n",
              "    </tr>\n",
              "    <tr>\n",
              "      <th>year_2019</th>\n",
              "      <td>-1.887320e+02</td>\n",
              "    </tr>\n",
              "    <tr>\n",
              "      <th>month_5</th>\n",
              "      <td>-2.017210e+02</td>\n",
              "    </tr>\n",
              "    <tr>\n",
              "      <th>year_2018</th>\n",
              "      <td>-2.400141e+02</td>\n",
              "    </tr>\n",
              "    <tr>\n",
              "      <th>year_2017</th>\n",
              "      <td>-2.961007e+02</td>\n",
              "    </tr>\n",
              "    <tr>\n",
              "      <th>year_2016</th>\n",
              "      <td>-3.964625e+02</td>\n",
              "    </tr>\n",
              "    <tr>\n",
              "      <th>year_2015</th>\n",
              "      <td>-4.018515e+02</td>\n",
              "    </tr>\n",
              "  </tbody>\n",
              "</table>\n",
              "</div>\n",
              "      <button class=\"colab-df-convert\" onclick=\"convertToInteractive('df-1926105a-24d0-487a-9981-2ed3f97046ff')\"\n",
              "              title=\"Convert this dataframe to an interactive table.\"\n",
              "              style=\"display:none;\">\n",
              "        \n",
              "  <svg xmlns=\"http://www.w3.org/2000/svg\" height=\"24px\"viewBox=\"0 0 24 24\"\n",
              "       width=\"24px\">\n",
              "    <path d=\"M0 0h24v24H0V0z\" fill=\"none\"/>\n",
              "    <path d=\"M18.56 5.44l.94 2.06.94-2.06 2.06-.94-2.06-.94-.94-2.06-.94 2.06-2.06.94zm-11 1L8.5 8.5l.94-2.06 2.06-.94-2.06-.94L8.5 2.5l-.94 2.06-2.06.94zm10 10l.94 2.06.94-2.06 2.06-.94-2.06-.94-.94-2.06-.94 2.06-2.06.94z\"/><path d=\"M17.41 7.96l-1.37-1.37c-.4-.4-.92-.59-1.43-.59-.52 0-1.04.2-1.43.59L10.3 9.45l-7.72 7.72c-.78.78-.78 2.05 0 2.83L4 21.41c.39.39.9.59 1.41.59.51 0 1.02-.2 1.41-.59l7.78-7.78 2.81-2.81c.8-.78.8-2.07 0-2.86zM5.41 20L4 18.59l7.72-7.72 1.47 1.35L5.41 20z\"/>\n",
              "  </svg>\n",
              "      </button>\n",
              "      \n",
              "  <style>\n",
              "    .colab-df-container {\n",
              "      display:flex;\n",
              "      flex-wrap:wrap;\n",
              "      gap: 12px;\n",
              "    }\n",
              "\n",
              "    .colab-df-convert {\n",
              "      background-color: #E8F0FE;\n",
              "      border: none;\n",
              "      border-radius: 50%;\n",
              "      cursor: pointer;\n",
              "      display: none;\n",
              "      fill: #1967D2;\n",
              "      height: 32px;\n",
              "      padding: 0 0 0 0;\n",
              "      width: 32px;\n",
              "    }\n",
              "\n",
              "    .colab-df-convert:hover {\n",
              "      background-color: #E2EBFA;\n",
              "      box-shadow: 0px 1px 2px rgba(60, 64, 67, 0.3), 0px 1px 3px 1px rgba(60, 64, 67, 0.15);\n",
              "      fill: #174EA6;\n",
              "    }\n",
              "\n",
              "    [theme=dark] .colab-df-convert {\n",
              "      background-color: #3B4455;\n",
              "      fill: #D2E3FC;\n",
              "    }\n",
              "\n",
              "    [theme=dark] .colab-df-convert:hover {\n",
              "      background-color: #434B5C;\n",
              "      box-shadow: 0px 1px 3px 1px rgba(0, 0, 0, 0.15);\n",
              "      filter: drop-shadow(0px 1px 2px rgba(0, 0, 0, 0.3));\n",
              "      fill: #FFFFFF;\n",
              "    }\n",
              "  </style>\n",
              "\n",
              "      <script>\n",
              "        const buttonEl =\n",
              "          document.querySelector('#df-1926105a-24d0-487a-9981-2ed3f97046ff button.colab-df-convert');\n",
              "        buttonEl.style.display =\n",
              "          google.colab.kernel.accessAllowed ? 'block' : 'none';\n",
              "\n",
              "        async function convertToInteractive(key) {\n",
              "          const element = document.querySelector('#df-1926105a-24d0-487a-9981-2ed3f97046ff');\n",
              "          const dataTable =\n",
              "            await google.colab.kernel.invokeFunction('convertToInteractive',\n",
              "                                                     [key], {});\n",
              "          if (!dataTable) return;\n",
              "\n",
              "          const docLinkHtml = 'Like what you see? Visit the ' +\n",
              "            '<a target=\"_blank\" href=https://colab.research.google.com/notebooks/data_table.ipynb>data table notebook</a>'\n",
              "            + ' to learn more about interactive tables.';\n",
              "          element.innerHTML = '';\n",
              "          dataTable['output_type'] = 'display_data';\n",
              "          await google.colab.output.renderOutput(dataTable, element);\n",
              "          const docLink = document.createElement('div');\n",
              "          docLink.innerHTML = docLinkHtml;\n",
              "          element.appendChild(docLink);\n",
              "        }\n",
              "      </script>\n",
              "    </div>\n",
              "  </div>\n",
              "  "
            ]
          },
          "metadata": {},
          "execution_count": 33
        }
      ]
    },
    {
      "cell_type": "code",
      "source": [
        "from sklearn.model_selection import GridSearchCV"
      ],
      "metadata": {
        "id": "n6650EVLaE_L"
      },
      "execution_count": null,
      "outputs": []
    },
    {
      "cell_type": "code",
      "source": [
        "# GridSearch - поиск по сетке (гиперпараметров)\n",
        "estimator = model # RandomForestRegressor\n",
        "param_grid = {\n",
        "    \"n_estimators\": [50, 100, 250],\n",
        "    \"min_samples_split\": [2,3,4],\n",
        "    \"max_depth\": [5,100]\n",
        "}\n",
        "gs = GridSearchCV(estimator, param_grid, scoring = \"neg_mean_absolute_error\", cv=3)"
      ],
      "metadata": {
        "id": "OOnc_fGMasPa"
      },
      "execution_count": null,
      "outputs": []
    },
    {
      "cell_type": "code",
      "source": [
        "gs.fit(X, y)"
      ],
      "metadata": {
        "colab": {
          "base_uri": "https://localhost:8080/"
        },
        "id": "o-URCoOJV8un",
        "outputId": "fa2eef3f-a700-49e0-ad86-57263d90a836"
      },
      "execution_count": null,
      "outputs": [
        {
          "output_type": "execute_result",
          "data": {
            "text/plain": [
              "GridSearchCV(cv=3, estimator=RandomForestRegressor(n_estimators=5000),\n",
              "             param_grid={'max_depth': [5, 100], 'min_samples_split': [2, 3, 4],\n",
              "                         'n_estimators': [50, 100, 250]},\n",
              "             scoring='neg_mean_absolute_error')"
            ]
          },
          "metadata": {},
          "execution_count": 36
        }
      ]
    },
    {
      "cell_type": "code",
      "source": [
        "import pickle # Сохранить обученную модель"
      ],
      "metadata": {
        "id": "kQsWq-dgcche"
      },
      "execution_count": null,
      "outputs": []
    },
    {
      "cell_type": "code",
      "source": [
        "with open(\"linreg.model\", \"wb\") as modelfile:\n",
        "  pickle.dump(linreg, modelfile)"
      ],
      "metadata": {
        "id": "OXBFODVgchgg"
      },
      "execution_count": null,
      "outputs": []
    },
    {
      "cell_type": "code",
      "source": [
        "with open(\"linreg.model\", \"rb\") as modelfile:\n",
        "  loaded_model = pickle.load(modelfile)\n",
        "  print(loaded_model)"
      ],
      "metadata": {
        "colab": {
          "base_uri": "https://localhost:8080/"
        },
        "id": "-oY_LDmEc-Vl",
        "outputId": "29d627f5-f117-4637-961a-880a453ce4e7"
      },
      "execution_count": null,
      "outputs": [
        {
          "output_type": "stream",
          "name": "stdout",
          "text": [
            "LinearRegression()\n"
          ]
        }
      ]
    }
  ]
}